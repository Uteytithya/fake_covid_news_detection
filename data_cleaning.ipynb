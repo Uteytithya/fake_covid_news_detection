{
  "cells": [
    {
      "cell_type": "markdown",
      "metadata": {
        "id": "4quPI-cZmK01"
      },
      "source": [
        "# Fake Covid News Detection"
      ]
    },
    {
      "cell_type": "markdown",
      "metadata": {
        "id": "7Ye7-JwymTmP"
      },
      "source": [
        "## Import Data"
      ]
    },
    {
      "cell_type": "code",
      "execution_count": null,
      "metadata": {
        "id": "Tx_yScsPdaqW"
      },
      "outputs": [],
      "source": [
        "import pandas as pd;\n",
        "import re;\n",
        "import os\n",
        "from transformers import BertTokenizer, BertModel\n",
        "import torch\n",
        "import numpy as np\n",
        "\n",
        "if not os.path.exists('unclean'):\n",
        "    os.makedirs('unclean')\n",
        "\n",
        "test_df = pd.read_csv(\"unclean/Constraint_Test.csv\");\n",
        "train_df = pd.read_csv(\"unclean/Constraint_Train.csv\");\n",
        "val_df = pd.read_csv(\"unclean/Constraint_Val.csv\");"
      ]
    },
    {
      "cell_type": "code",
      "execution_count": 2,
      "metadata": {
        "colab": {
          "base_uri": "https://localhost:8080/",
          "height": 0
        },
        "id": "gyNKZ2AqlKR1",
        "outputId": "d28be01f-7049-43dc-b1a0-295b695ea516"
      },
      "outputs": [
        {
          "data": {
            "text/html": [
              "<div>\n",
              "<style scoped>\n",
              "    .dataframe tbody tr th:only-of-type {\n",
              "        vertical-align: middle;\n",
              "    }\n",
              "\n",
              "    .dataframe tbody tr th {\n",
              "        vertical-align: top;\n",
              "    }\n",
              "\n",
              "    .dataframe thead th {\n",
              "        text-align: right;\n",
              "    }\n",
              "</style>\n",
              "<table border=\"1\" class=\"dataframe\">\n",
              "  <thead>\n",
              "    <tr style=\"text-align: right;\">\n",
              "      <th></th>\n",
              "      <th>id</th>\n",
              "      <th>tweet</th>\n",
              "    </tr>\n",
              "  </thead>\n",
              "  <tbody>\n",
              "    <tr>\n",
              "      <th>0</th>\n",
              "      <td>1</td>\n",
              "      <td>Our daily update is published. States reported...</td>\n",
              "    </tr>\n",
              "    <tr>\n",
              "      <th>1</th>\n",
              "      <td>2</td>\n",
              "      <td>Alfalfa is the only cure for COVID-19.</td>\n",
              "    </tr>\n",
              "    <tr>\n",
              "      <th>2</th>\n",
              "      <td>3</td>\n",
              "      <td>President Trump Asked What He Would Do If He W...</td>\n",
              "    </tr>\n",
              "    <tr>\n",
              "      <th>3</th>\n",
              "      <td>4</td>\n",
              "      <td>States reported 630 deaths. We are still seein...</td>\n",
              "    </tr>\n",
              "    <tr>\n",
              "      <th>4</th>\n",
              "      <td>5</td>\n",
              "      <td>This is the sixth time a global health emergen...</td>\n",
              "    </tr>\n",
              "    <tr>\n",
              "      <th>...</th>\n",
              "      <td>...</td>\n",
              "      <td>...</td>\n",
              "    </tr>\n",
              "    <tr>\n",
              "      <th>2135</th>\n",
              "      <td>2136</td>\n",
              "      <td>#CoronaVirusUpdates: State-wise details of Tot...</td>\n",
              "    </tr>\n",
              "    <tr>\n",
              "      <th>2136</th>\n",
              "      <td>2137</td>\n",
              "      <td>Tonight 12(midnight) onwards Disaster Manageme...</td>\n",
              "    </tr>\n",
              "    <tr>\n",
              "      <th>2137</th>\n",
              "      <td>2138</td>\n",
              "      <td>296 new cases of #COVID19Nigeria; Plateau-85 E...</td>\n",
              "    </tr>\n",
              "    <tr>\n",
              "      <th>2138</th>\n",
              "      <td>2139</td>\n",
              "      <td>RT @CDCemergency: #DYK? @CDCgov’s One-Stop Sho...</td>\n",
              "    </tr>\n",
              "    <tr>\n",
              "      <th>2139</th>\n",
              "      <td>2140</td>\n",
              "      <td>More than half of pregnant women recently admi...</td>\n",
              "    </tr>\n",
              "  </tbody>\n",
              "</table>\n",
              "<p>2140 rows × 2 columns</p>\n",
              "</div>"
            ],
            "text/plain": [
              "        id                                              tweet\n",
              "0        1  Our daily update is published. States reported...\n",
              "1        2             Alfalfa is the only cure for COVID-19.\n",
              "2        3  President Trump Asked What He Would Do If He W...\n",
              "3        4  States reported 630 deaths. We are still seein...\n",
              "4        5  This is the sixth time a global health emergen...\n",
              "...    ...                                                ...\n",
              "2135  2136  #CoronaVirusUpdates: State-wise details of Tot...\n",
              "2136  2137  Tonight 12(midnight) onwards Disaster Manageme...\n",
              "2137  2138  296 new cases of #COVID19Nigeria; Plateau-85 E...\n",
              "2138  2139  RT @CDCemergency: #DYK? @CDCgov’s One-Stop Sho...\n",
              "2139  2140  More than half of pregnant women recently admi...\n",
              "\n",
              "[2140 rows x 2 columns]"
            ]
          },
          "execution_count": 2,
          "metadata": {},
          "output_type": "execute_result"
        }
      ],
      "source": [
        "test_df"
      ]
    },
    {
      "cell_type": "code",
      "execution_count": 3,
      "metadata": {
        "colab": {
          "base_uri": "https://localhost:8080/",
          "height": 0
        },
        "id": "qj_gtcP8lpdi",
        "outputId": "9f5622db-dc15-4c28-d2ec-a7dada5eae10"
      },
      "outputs": [
        {
          "data": {
            "text/html": [
              "<div>\n",
              "<style scoped>\n",
              "    .dataframe tbody tr th:only-of-type {\n",
              "        vertical-align: middle;\n",
              "    }\n",
              "\n",
              "    .dataframe tbody tr th {\n",
              "        vertical-align: top;\n",
              "    }\n",
              "\n",
              "    .dataframe thead th {\n",
              "        text-align: right;\n",
              "    }\n",
              "</style>\n",
              "<table border=\"1\" class=\"dataframe\">\n",
              "  <thead>\n",
              "    <tr style=\"text-align: right;\">\n",
              "      <th></th>\n",
              "      <th>id</th>\n",
              "      <th>tweet</th>\n",
              "      <th>label</th>\n",
              "    </tr>\n",
              "  </thead>\n",
              "  <tbody>\n",
              "    <tr>\n",
              "      <th>0</th>\n",
              "      <td>1</td>\n",
              "      <td>The CDC currently reports 99031 deaths. In gen...</td>\n",
              "      <td>real</td>\n",
              "    </tr>\n",
              "    <tr>\n",
              "      <th>1</th>\n",
              "      <td>2</td>\n",
              "      <td>States reported 1121 deaths a small rise from ...</td>\n",
              "      <td>real</td>\n",
              "    </tr>\n",
              "    <tr>\n",
              "      <th>2</th>\n",
              "      <td>3</td>\n",
              "      <td>Politically Correct Woman (Almost) Uses Pandem...</td>\n",
              "      <td>fake</td>\n",
              "    </tr>\n",
              "    <tr>\n",
              "      <th>3</th>\n",
              "      <td>4</td>\n",
              "      <td>#IndiaFightsCorona: We have 1524 #COVID testin...</td>\n",
              "      <td>real</td>\n",
              "    </tr>\n",
              "    <tr>\n",
              "      <th>4</th>\n",
              "      <td>5</td>\n",
              "      <td>Populous states can generate large case counts...</td>\n",
              "      <td>real</td>\n",
              "    </tr>\n",
              "    <tr>\n",
              "      <th>...</th>\n",
              "      <td>...</td>\n",
              "      <td>...</td>\n",
              "      <td>...</td>\n",
              "    </tr>\n",
              "    <tr>\n",
              "      <th>6415</th>\n",
              "      <td>6416</td>\n",
              "      <td>A tiger tested positive for COVID-19 please st...</td>\n",
              "      <td>fake</td>\n",
              "    </tr>\n",
              "    <tr>\n",
              "      <th>6416</th>\n",
              "      <td>6417</td>\n",
              "      <td>???Autopsies prove that COVID-19 is??� a blood...</td>\n",
              "      <td>fake</td>\n",
              "    </tr>\n",
              "    <tr>\n",
              "      <th>6417</th>\n",
              "      <td>6418</td>\n",
              "      <td>_A post claims a COVID-19 vaccine has already ...</td>\n",
              "      <td>fake</td>\n",
              "    </tr>\n",
              "    <tr>\n",
              "      <th>6418</th>\n",
              "      <td>6419</td>\n",
              "      <td>Aamir Khan Donate 250 Cr. In PM Relief Cares Fund</td>\n",
              "      <td>fake</td>\n",
              "    </tr>\n",
              "    <tr>\n",
              "      <th>6419</th>\n",
              "      <td>6420</td>\n",
              "      <td>It has been 93 days since the last case of COV...</td>\n",
              "      <td>real</td>\n",
              "    </tr>\n",
              "  </tbody>\n",
              "</table>\n",
              "<p>6420 rows × 3 columns</p>\n",
              "</div>"
            ],
            "text/plain": [
              "        id                                              tweet label\n",
              "0        1  The CDC currently reports 99031 deaths. In gen...  real\n",
              "1        2  States reported 1121 deaths a small rise from ...  real\n",
              "2        3  Politically Correct Woman (Almost) Uses Pandem...  fake\n",
              "3        4  #IndiaFightsCorona: We have 1524 #COVID testin...  real\n",
              "4        5  Populous states can generate large case counts...  real\n",
              "...    ...                                                ...   ...\n",
              "6415  6416  A tiger tested positive for COVID-19 please st...  fake\n",
              "6416  6417  ???Autopsies prove that COVID-19 is??� a blood...  fake\n",
              "6417  6418  _A post claims a COVID-19 vaccine has already ...  fake\n",
              "6418  6419  Aamir Khan Donate 250 Cr. In PM Relief Cares Fund  fake\n",
              "6419  6420  It has been 93 days since the last case of COV...  real\n",
              "\n",
              "[6420 rows x 3 columns]"
            ]
          },
          "execution_count": 3,
          "metadata": {},
          "output_type": "execute_result"
        }
      ],
      "source": [
        "train_df"
      ]
    },
    {
      "cell_type": "code",
      "execution_count": 4,
      "metadata": {
        "colab": {
          "base_uri": "https://localhost:8080/",
          "height": 0
        },
        "id": "8sUJpe7clrLR",
        "outputId": "bd6cecac-6cc7-488d-a14f-9b071a244a7a"
      },
      "outputs": [
        {
          "data": {
            "text/html": [
              "<div>\n",
              "<style scoped>\n",
              "    .dataframe tbody tr th:only-of-type {\n",
              "        vertical-align: middle;\n",
              "    }\n",
              "\n",
              "    .dataframe tbody tr th {\n",
              "        vertical-align: top;\n",
              "    }\n",
              "\n",
              "    .dataframe thead th {\n",
              "        text-align: right;\n",
              "    }\n",
              "</style>\n",
              "<table border=\"1\" class=\"dataframe\">\n",
              "  <thead>\n",
              "    <tr style=\"text-align: right;\">\n",
              "      <th></th>\n",
              "      <th>id</th>\n",
              "      <th>tweet</th>\n",
              "      <th>label</th>\n",
              "    </tr>\n",
              "  </thead>\n",
              "  <tbody>\n",
              "    <tr>\n",
              "      <th>0</th>\n",
              "      <td>1</td>\n",
              "      <td>Chinese converting to Islam after realising th...</td>\n",
              "      <td>fake</td>\n",
              "    </tr>\n",
              "    <tr>\n",
              "      <th>1</th>\n",
              "      <td>2</td>\n",
              "      <td>11 out of 13 people (from the Diamond Princess...</td>\n",
              "      <td>fake</td>\n",
              "    </tr>\n",
              "    <tr>\n",
              "      <th>2</th>\n",
              "      <td>3</td>\n",
              "      <td>COVID-19 Is Caused By A Bacterium, Not Virus A...</td>\n",
              "      <td>fake</td>\n",
              "    </tr>\n",
              "    <tr>\n",
              "      <th>3</th>\n",
              "      <td>4</td>\n",
              "      <td>Mike Pence in RNC speech praises Donald Trump’...</td>\n",
              "      <td>fake</td>\n",
              "    </tr>\n",
              "    <tr>\n",
              "      <th>4</th>\n",
              "      <td>5</td>\n",
              "      <td>6/10 Sky's @EdConwaySky explains the latest #C...</td>\n",
              "      <td>real</td>\n",
              "    </tr>\n",
              "    <tr>\n",
              "      <th>...</th>\n",
              "      <td>...</td>\n",
              "      <td>...</td>\n",
              "      <td>...</td>\n",
              "    </tr>\n",
              "    <tr>\n",
              "      <th>2135</th>\n",
              "      <td>2136</td>\n",
              "      <td>Donald Trump wrongly claimed that New Zealand ...</td>\n",
              "      <td>fake</td>\n",
              "    </tr>\n",
              "    <tr>\n",
              "      <th>2136</th>\n",
              "      <td>2137</td>\n",
              "      <td>Current understanding is #COVID19 spreads most...</td>\n",
              "      <td>real</td>\n",
              "    </tr>\n",
              "    <tr>\n",
              "      <th>2137</th>\n",
              "      <td>2138</td>\n",
              "      <td>Nothing screams “I am sat around doing fuck al...</td>\n",
              "      <td>fake</td>\n",
              "    </tr>\n",
              "    <tr>\n",
              "      <th>2138</th>\n",
              "      <td>2139</td>\n",
              "      <td>Birx says COVID-19 outbreak not under control ...</td>\n",
              "      <td>fake</td>\n",
              "    </tr>\n",
              "    <tr>\n",
              "      <th>2139</th>\n",
              "      <td>2140</td>\n",
              "      <td>Another 4422 new coronavirus cases have been c...</td>\n",
              "      <td>real</td>\n",
              "    </tr>\n",
              "  </tbody>\n",
              "</table>\n",
              "<p>2140 rows × 3 columns</p>\n",
              "</div>"
            ],
            "text/plain": [
              "        id                                              tweet label\n",
              "0        1  Chinese converting to Islam after realising th...  fake\n",
              "1        2  11 out of 13 people (from the Diamond Princess...  fake\n",
              "2        3  COVID-19 Is Caused By A Bacterium, Not Virus A...  fake\n",
              "3        4  Mike Pence in RNC speech praises Donald Trump’...  fake\n",
              "4        5  6/10 Sky's @EdConwaySky explains the latest #C...  real\n",
              "...    ...                                                ...   ...\n",
              "2135  2136  Donald Trump wrongly claimed that New Zealand ...  fake\n",
              "2136  2137  Current understanding is #COVID19 spreads most...  real\n",
              "2137  2138  Nothing screams “I am sat around doing fuck al...  fake\n",
              "2138  2139  Birx says COVID-19 outbreak not under control ...  fake\n",
              "2139  2140  Another 4422 new coronavirus cases have been c...  real\n",
              "\n",
              "[2140 rows x 3 columns]"
            ]
          },
          "execution_count": 4,
          "metadata": {},
          "output_type": "execute_result"
        }
      ],
      "source": [
        "val_df"
      ]
    },
    {
      "cell_type": "markdown",
      "metadata": {
        "id": "mjDzep6OnIms"
      },
      "source": [
        "# Explorative data analysis"
      ]
    },
    {
      "cell_type": "code",
      "execution_count": 5,
      "metadata": {
        "colab": {
          "base_uri": "https://localhost:8080/"
        },
        "id": "t3YFwOe_n1Id",
        "outputId": "e45ab554-e86c-4bbf-ce94-651f9983cb33"
      },
      "outputs": [
        {
          "name": "stdout",
          "output_type": "stream",
          "text": [
            "Uncleaned Test Data: (2140, 2)\n",
            "Uncleaned Train Data: (6420, 3)\n",
            "Uncleaned Validate Data: (2140, 3)\n"
          ]
        }
      ],
      "source": [
        "print(\"Uncleaned Test Data: \"+ str(test_df.shape))\n",
        "print(\"Uncleaned Train Data: \"+ str(train_df.shape))\n",
        "print(\"Uncleaned Validate Data: \" + str(val_df.shape))"
      ]
    },
    {
      "cell_type": "code",
      "execution_count": 6,
      "metadata": {
        "colab": {
          "base_uri": "https://localhost:8080/"
        },
        "id": "cSkzJsspon-P",
        "outputId": "f53f69cd-2d19-4eca-e1f8-d00d692d47fe"
      },
      "outputs": [
        {
          "name": "stdout",
          "output_type": "stream",
          "text": [
            "Uncleaned Test Data: Index(['id', 'tweet'], dtype='object')\n",
            "Uncleaned Train Data: Index(['id', 'tweet', 'label'], dtype='object')\n",
            "Uncleaned Validate Data: Index(['id', 'tweet', 'label'], dtype='object')\n"
          ]
        }
      ],
      "source": [
        "print(\"Uncleaned Test Data: \"+ str(test_df.columns))\n",
        "print(\"Uncleaned Train Data: \"+ str(train_df.columns))\n",
        "print(\"Uncleaned Validate Data: \" + str(val_df.columns))"
      ]
    },
    {
      "cell_type": "code",
      "execution_count": 7,
      "metadata": {
        "colab": {
          "base_uri": "https://localhost:8080/"
        },
        "id": "lde-EWYuoy-3",
        "outputId": "e3903ba9-298d-4402-ff28-5ce2f41056be"
      },
      "outputs": [
        {
          "name": "stdout",
          "output_type": "stream",
          "text": [
            "<class 'pandas.core.frame.DataFrame'>\n",
            "RangeIndex: 2140 entries, 0 to 2139\n",
            "Data columns (total 2 columns):\n",
            " #   Column  Non-Null Count  Dtype \n",
            "---  ------  --------------  ----- \n",
            " 0   id      2140 non-null   int64 \n",
            " 1   tweet   2140 non-null   object\n",
            "dtypes: int64(1), object(1)\n",
            "memory usage: 33.6+ KB\n",
            "\n",
            "\n",
            "<class 'pandas.core.frame.DataFrame'>\n",
            "RangeIndex: 6420 entries, 0 to 6419\n",
            "Data columns (total 3 columns):\n",
            " #   Column  Non-Null Count  Dtype \n",
            "---  ------  --------------  ----- \n",
            " 0   id      6420 non-null   int64 \n",
            " 1   tweet   6420 non-null   object\n",
            " 2   label   6420 non-null   object\n",
            "dtypes: int64(1), object(2)\n",
            "memory usage: 150.6+ KB\n",
            "\n",
            "\n",
            "<class 'pandas.core.frame.DataFrame'>\n",
            "RangeIndex: 2140 entries, 0 to 2139\n",
            "Data columns (total 3 columns):\n",
            " #   Column  Non-Null Count  Dtype \n",
            "---  ------  --------------  ----- \n",
            " 0   id      2140 non-null   int64 \n",
            " 1   tweet   2140 non-null   object\n",
            " 2   label   2140 non-null   object\n",
            "dtypes: int64(1), object(2)\n",
            "memory usage: 50.3+ KB\n"
          ]
        }
      ],
      "source": [
        "test_df.info()\n",
        "print('\\n')\n",
        "train_df.info()\n",
        "print('\\n')\n",
        "val_df.info()"
      ]
    },
    {
      "cell_type": "markdown",
      "metadata": {
        "id": "uNT41kEhng_X"
      },
      "source": [
        "# Data Preprocessing"
      ]
    },
    {
      "cell_type": "markdown",
      "metadata": {
        "id": "mdl6_ygrnnfw"
      },
      "source": [
        "## Convert to lowercase"
      ]
    },
    {
      "cell_type": "code",
      "execution_count": 8,
      "metadata": {
        "colab": {
          "base_uri": "https://localhost:8080/"
        },
        "id": "IK2zR2SdlsHh",
        "outputId": "05c220cb-69de-4ed6-cbfb-233d218aa4f6"
      },
      "outputs": [
        {
          "name": "stdout",
          "output_type": "stream",
          "text": [
            "   id                                              tweet label\n",
            "0   1  the cdc currently reports 99031 deaths. in gen...  real\n",
            "1   2  states reported 1121 deaths a small rise from ...  real\n",
            "2   3  politically correct woman (almost) uses pandem...  fake\n",
            "3   4  #indiafightscorona: we have 1524 #covid testin...  real\n",
            "4   5  populous states can generate large case counts...  real\n",
            "   id                                              tweet\n",
            "0   1  our daily update is published. states reported...\n",
            "1   2             alfalfa is the only cure for covid-19.\n",
            "2   3  president trump asked what he would do if he w...\n",
            "3   4  states reported 630 deaths. we are still seein...\n",
            "4   5  this is the sixth time a global health emergen...\n",
            "   id                                              tweet label\n",
            "0   1  chinese converting to islam after realising th...  fake\n",
            "1   2  11 out of 13 people (from the diamond princess...  fake\n",
            "2   3  covid-19 is caused by a bacterium, not virus a...  fake\n",
            "3   4  mike pence in rnc speech praises donald trump’...  fake\n",
            "4   5  6/10 sky's @edconwaysky explains the latest #c...  real\n"
          ]
        }
      ],
      "source": [
        "train_df['tweet'] = train_df['tweet'].str.lower()\n",
        "test_df['tweet'] = test_df['tweet'].str.lower()\n",
        "val_df['tweet'] = val_df['tweet'].str.lower()\n",
        "print(train_df.head())\n",
        "print(test_df.head())\n",
        "print(val_df.head())\n"
      ]
    },
    {
      "cell_type": "markdown",
      "metadata": {
        "id": "nF8fQA_tmD8u"
      },
      "source": [
        "## Check Duplicates"
      ]
    },
    {
      "cell_type": "code",
      "execution_count": 9,
      "metadata": {
        "colab": {
          "base_uri": "https://localhost:8080/",
          "height": 600
        },
        "id": "WsrGXc8Fl10S",
        "outputId": "55708a1f-ce9a-4dc5-c48b-c9157df8fa08"
      },
      "outputs": [
        {
          "name": "stdout",
          "output_type": "stream",
          "text": [
            "Duplicates in train_df:\n",
            "Empty DataFrame\n",
            "Columns: [id, tweet, label]\n",
            "Index: []\n",
            "\n",
            "Duplicates in test_df:\n",
            "Empty DataFrame\n",
            "Columns: [id, tweet]\n",
            "Index: []\n",
            "\n",
            "Duplicates in val_df:\n",
            "Empty DataFrame\n",
            "Columns: [id, tweet, label]\n",
            "Index: []\n",
            "\n",
            "Common tweets in train and test sets:\n",
            "   id_x                                              tweet label  id_y\n",
            "0  3242  audio from whatsapp in which the head of cardi...  fake   132\n",
            "1  4178  video shows muslim women spitting in plastic b...  fake  1829\n",
            "\n",
            "Common tweets in train and validation sets:\n",
            "   id_x                                              tweet label_x  id_y  \\\n",
            "0  5459  our combined total of confirmed and probable c...    real   910   \n",
            "\n",
            "  label_y  \n",
            "0    real  \n",
            "\n",
            "Common tweets in test and validation sets:\n"
          ]
        },
        {
          "data": {
            "text/html": [
              "<div>\n",
              "<style scoped>\n",
              "    .dataframe tbody tr th:only-of-type {\n",
              "        vertical-align: middle;\n",
              "    }\n",
              "\n",
              "    .dataframe tbody tr th {\n",
              "        vertical-align: top;\n",
              "    }\n",
              "\n",
              "    .dataframe thead th {\n",
              "        text-align: right;\n",
              "    }\n",
              "</style>\n",
              "<table border=\"1\" class=\"dataframe\">\n",
              "  <thead>\n",
              "    <tr style=\"text-align: right;\">\n",
              "      <th></th>\n",
              "      <th>id_x</th>\n",
              "      <th>tweet</th>\n",
              "      <th>id_y</th>\n",
              "      <th>label</th>\n",
              "    </tr>\n",
              "  </thead>\n",
              "  <tbody>\n",
              "  </tbody>\n",
              "</table>\n",
              "</div>"
            ],
            "text/plain": [
              "Empty DataFrame\n",
              "Columns: [id_x, tweet, id_y, label]\n",
              "Index: []"
            ]
          },
          "execution_count": 9,
          "metadata": {},
          "output_type": "execute_result"
        }
      ],
      "source": [
        "train_duplicates = train_df[train_df.duplicated(subset=['tweet'], keep=False)]\n",
        "print(\"Duplicates in train_df:\")\n",
        "print(train_duplicates)\n",
        "\n",
        "\n",
        "test_duplicates = test_df[test_df.duplicated(subset=['tweet'], keep=False)]\n",
        "print(\"\\nDuplicates in test_df:\")\n",
        "print(test_duplicates)\n",
        "\n",
        "\n",
        "val_duplicates = val_df[val_df.duplicated(subset=['tweet'], keep=False)]\n",
        "print(\"\\nDuplicates in val_df:\")\n",
        "print(val_duplicates)\n",
        "\n",
        "common_tweets_train_test = pd.merge(train_df, test_df, on='tweet', how='inner')\n",
        "print(\"\\nCommon tweets in train and test sets:\")\n",
        "print(common_tweets_train_test)\n",
        "\n",
        "common_tweets_train_val = pd.merge(train_df, val_df, on='tweet', how='inner')\n",
        "print(\"\\nCommon tweets in train and validation sets:\")\n",
        "print(common_tweets_train_val)\n",
        "\n",
        "common_tweets_test_val = pd.merge(test_df, val_df, on='tweet', how='inner')\n",
        "print(\"\\nCommon tweets in test and validation sets:\")\n",
        "common_tweets_test_val\n"
      ]
    },
    {
      "cell_type": "markdown",
      "metadata": {
        "id": "dji91mYAyhBM"
      },
      "source": [
        "## Check Missing Values"
      ]
    },
    {
      "cell_type": "code",
      "execution_count": 10,
      "metadata": {
        "colab": {
          "base_uri": "https://localhost:8080/"
        },
        "id": "GyFfYueYpSR4",
        "outputId": "6f6a5fb7-10c1-4540-d675-bb068ba446f2"
      },
      "outputs": [
        {
          "name": "stdout",
          "output_type": "stream",
          "text": [
            "Missing values in test_df:\n",
            " id       0\n",
            "tweet    0\n",
            "dtype: int64\n",
            "\n",
            "Missing values in train_df:\n",
            " id       0\n",
            "tweet    0\n",
            "label    0\n",
            "dtype: int64\n",
            "\n",
            "Missing values in val_df:\n",
            " id       0\n",
            "tweet    0\n",
            "label    0\n",
            "dtype: int64\n"
          ]
        }
      ],
      "source": [
        "print(\"Missing values in test_df:\\n\", test_df.isnull().sum())\n",
        "print(\"\\nMissing values in train_df:\\n\", train_df.isnull().sum())\n",
        "print(\"\\nMissing values in val_df:\\n\", val_df.isnull().sum())\n"
      ]
    },
    {
      "cell_type": "markdown",
      "metadata": {
        "id": "ORUhON_zympo"
      },
      "source": [
        "## Categorical Values Count"
      ]
    },
    {
      "cell_type": "code",
      "execution_count": 11,
      "metadata": {
        "colab": {
          "base_uri": "https://localhost:8080/",
          "height": 178
        },
        "id": "lQFZGLN4qEDB",
        "outputId": "051ef628-6efb-4e49-fd46-d6d74cdf260d"
      },
      "outputs": [
        {
          "data": {
            "text/plain": [
              "label\n",
              "real    1120\n",
              "fake    1020\n",
              "Name: count, dtype: int64"
            ]
          },
          "execution_count": 11,
          "metadata": {},
          "output_type": "execute_result"
        }
      ],
      "source": [
        "val_df.label.value_counts()"
      ]
    },
    {
      "cell_type": "code",
      "execution_count": 12,
      "metadata": {
        "colab": {
          "base_uri": "https://localhost:8080/",
          "height": 178
        },
        "id": "UK0ej1JnqTU5",
        "outputId": "354242f6-4642-4797-9bf5-e137a7f26ee7"
      },
      "outputs": [
        {
          "data": {
            "text/plain": [
              "label\n",
              "real    3360\n",
              "fake    3060\n",
              "Name: count, dtype: int64"
            ]
          },
          "execution_count": 12,
          "metadata": {},
          "output_type": "execute_result"
        }
      ],
      "source": [
        "train_df.label.value_counts()"
      ]
    },
    {
      "cell_type": "markdown",
      "metadata": {
        "id": "HXB4zK1iytyD"
      },
      "source": [
        "## Remove extra whitespaces and line break"
      ]
    },
    {
      "cell_type": "code",
      "execution_count": 13,
      "metadata": {
        "colab": {
          "base_uri": "https://localhost:8080/"
        },
        "id": "1YZTUJLVy1uB",
        "outputId": "c2ca547e-e521-4cfe-a188-8aeea025d763"
      },
      "outputs": [
        {
          "name": "stdout",
          "output_type": "stream",
          "text": [
            "Test DataFrame:\n",
            "Extra spaces: 0\n",
            "Line breaks: 288\n",
            "\n",
            "Train DataFrame:\n",
            "Extra spaces: 0\n",
            "Line breaks: 778\n",
            "\n",
            "Validation DataFrame:\n",
            "Extra spaces: 0\n",
            "Line breaks: 239\n"
          ]
        }
      ],
      "source": [
        "def count_extra_whitespace_and_linebreaks(df, column_name):\n",
        "    extra_spaces_count = 0\n",
        "    linebreaks_count = 0\n",
        "\n",
        "    for index, row in df.iterrows():\n",
        "        tweet = row[column_name]\n",
        "        # Check for extra spaces (more than one space together)\n",
        "        extra_spaces_count += len([i for i in tweet.split() if len(i) == 0])\n",
        "\n",
        "        # Check for linebreaks\n",
        "        linebreaks_count += tweet.count('\\n')\n",
        "\n",
        "    return extra_spaces_count, linebreaks_count\n",
        "\n",
        "extra_spaces_test, linebreaks_test = count_extra_whitespace_and_linebreaks(test_df, 'tweet')\n",
        "extra_spaces_train, linebreaks_train = count_extra_whitespace_and_linebreaks(train_df, 'tweet')\n",
        "extra_spaces_val, linebreaks_val = count_extra_whitespace_and_linebreaks(val_df, 'tweet')\n",
        "\n",
        "print(\"Test DataFrame:\")\n",
        "print(f\"Extra spaces: {extra_spaces_test}\")\n",
        "print(f\"Line breaks: {linebreaks_test}\")\n",
        "\n",
        "print(\"\\nTrain DataFrame:\")\n",
        "print(f\"Extra spaces: {extra_spaces_train}\")\n",
        "print(f\"Line breaks: {linebreaks_train}\")\n",
        "\n",
        "print(\"\\nValidation DataFrame:\")\n",
        "print(f\"Extra spaces: {extra_spaces_val}\")\n",
        "print(f\"Line breaks: {linebreaks_val}\")\n"
      ]
    },
    {
      "cell_type": "code",
      "execution_count": 14,
      "metadata": {
        "id": "inXQqNGfsYRW"
      },
      "outputs": [],
      "source": [
        "import re\n",
        "\n",
        "def clean_text(text):\n",
        "  # Remove extra whitespaces\n",
        "  text = re.sub(r'\\s+', ' ', text)\n",
        "  # Remove leading/trailing whitespaces\n",
        "  text = text.strip()\n",
        "  return text\n",
        "\n",
        "train_df['tweet'] = train_df['tweet'].apply(clean_text)\n",
        "test_df['tweet'] = test_df['tweet'].apply(clean_text)\n",
        "val_df['tweet'] = val_df['tweet'].apply(clean_text)\n"
      ]
    },
    {
      "cell_type": "code",
      "execution_count": 15,
      "metadata": {
        "colab": {
          "base_uri": "https://localhost:8080/"
        },
        "id": "KLMrqVZ6zJmj",
        "outputId": "c3a833c1-bb42-41a5-a40d-8e1a2a7ae91f"
      },
      "outputs": [
        {
          "name": "stdout",
          "output_type": "stream",
          "text": [
            "\n",
            "After Cleaning:\n",
            "Test DataFrame:\n",
            "Extra spaces: 0\n",
            "Line breaks: 0\n",
            "\n",
            "Train DataFrame:\n",
            "Extra spaces: 0\n",
            "Line breaks: 0\n",
            "\n",
            "Validation DataFrame:\n",
            "Extra spaces: 0\n",
            "Line breaks: 0\n"
          ]
        }
      ],
      "source": [
        "# Recheck for extra whitespaces and line breaks after cleaning\n",
        "extra_spaces_test, linebreaks_test = count_extra_whitespace_and_linebreaks(test_df, 'tweet')\n",
        "extra_spaces_train, linebreaks_train = count_extra_whitespace_and_linebreaks(train_df, 'tweet')\n",
        "extra_spaces_val, linebreaks_val = count_extra_whitespace_and_linebreaks(val_df, 'tweet')\n",
        "\n",
        "print(\"\\nAfter Cleaning:\")\n",
        "print(\"Test DataFrame:\")\n",
        "print(f\"Extra spaces: {extra_spaces_test}\")\n",
        "print(f\"Line breaks: {linebreaks_test}\")\n",
        "\n",
        "print(\"\\nTrain DataFrame:\")\n",
        "print(f\"Extra spaces: {extra_spaces_train}\")\n",
        "print(f\"Line breaks: {linebreaks_train}\")\n",
        "\n",
        "print(\"\\nValidation DataFrame:\")\n",
        "print(f\"Extra spaces: {extra_spaces_val}\")\n",
        "print(f\"Line breaks: {linebreaks_val}\")\n"
      ]
    },
    {
      "cell_type": "markdown",
      "metadata": {
        "id": "Gr9sJ4qw0xqh"
      },
      "source": [
        "## Normalize Multiple Punctuation into single punctuation"
      ]
    },
    {
      "cell_type": "code",
      "execution_count": 16,
      "metadata": {
        "colab": {
          "base_uri": "https://localhost:8080/"
        },
        "id": "Du0VZxThvpC7",
        "outputId": "5fb9d509-03df-4fe6-d024-ee7be8b81765"
      },
      "outputs": [
        {
          "name": "stdout",
          "output_type": "stream",
          "text": [
            "   id                                              tweet label  \\\n",
            "0   1  the cdc currently reports 99031 deaths. in gen...  real   \n",
            "1   2  states reported 1121 deaths a small rise from ...  real   \n",
            "2   3  politically correct woman (almost) uses pandem...  fake   \n",
            "3   4  #indiafightscorona: we have 1524 #covid testin...  real   \n",
            "4   5  populous states can generate large case counts...  real   \n",
            "\n",
            "   multiple_punctuation_count  \n",
            "0                           0  \n",
            "1                           1  \n",
            "2                           1  \n",
            "3                           1  \n",
            "4                           1  \n",
            "   id                                              tweet  \\\n",
            "0   1  our daily update is published. states reported...   \n",
            "1   2             alfalfa is the only cure for covid-19.   \n",
            "2   3  president trump asked what he would do if he w...   \n",
            "3   4  states reported 630 deaths. we are still seein...   \n",
            "4   5  this is the sixth time a global health emergen...   \n",
            "\n",
            "   multiple_punctuation_count  \n",
            "0                           1  \n",
            "1                           0  \n",
            "2                           1  \n",
            "3                           1  \n",
            "4                           2  \n",
            "   id                                              tweet label  \\\n",
            "0   1  chinese converting to islam after realising th...  fake   \n",
            "1   2  11 out of 13 people (from the diamond princess...  fake   \n",
            "2   3  covid-19 is caused by a bacterium, not virus a...  fake   \n",
            "3   4  mike pence in rnc speech praises donald trump’...  fake   \n",
            "4   5  6/10 sky's @edconwaysky explains the latest #c...  real   \n",
            "\n",
            "   multiple_punctuation_count  \n",
            "0                           0  \n",
            "1                           0  \n",
            "2                           0  \n",
            "3                           2  \n",
            "4                           2  \n",
            "\n",
            "Total multiple punctuations in train_df: 6501\n"
          ]
        }
      ],
      "source": [
        "def count_multiple_punctuation(text):\n",
        "    # Regular expression to find multiple punctuation marks together\n",
        "    pattern = r'[^\\w\\s]{2,}'  # Matches 2 or more non-word, non-space characters\n",
        "    matches = re.findall(pattern, text)\n",
        "    return len(matches)\n",
        "\n",
        "# Apply the function to the 'tweet' column of each DataFrame\n",
        "train_df['multiple_punctuation_count'] = train_df['tweet'].apply(count_multiple_punctuation)\n",
        "test_df['multiple_punctuation_count'] = test_df['tweet'].apply(count_multiple_punctuation)\n",
        "val_df['multiple_punctuation_count'] = val_df['tweet'].apply(count_multiple_punctuation)\n",
        "\n",
        "print(train_df.head())\n",
        "print(test_df.head())\n",
        "print(val_df.head())\n",
        "\n",
        "# Example: Check the total count of multiple punctuations in train set\n",
        "total_multiple_punctuation_train = train_df['multiple_punctuation_count'].sum()\n",
        "print(f\"\\nTotal multiple punctuations in train_df: {total_multiple_punctuation_train}\")\n"
      ]
    },
    {
      "cell_type": "code",
      "execution_count": 17,
      "metadata": {
        "id": "4q4OvqXpsuLK"
      },
      "outputs": [],
      "source": [
        "def replace_excessive_punctuation(text):\n",
        "    text = re.sub(r'([!?.]){2,}', r'\\1', text)\n",
        "    return text\n",
        "\n",
        "train_df['tweet'] = train_df['tweet'].apply(replace_excessive_punctuation)\n",
        "test_df['tweet'] = test_df['tweet'].apply(replace_excessive_punctuation)\n",
        "val_df['tweet'] = val_df['tweet'].apply(replace_excessive_punctuation)\n"
      ]
    },
    {
      "cell_type": "code",
      "execution_count": 18,
      "metadata": {
        "colab": {
          "base_uri": "https://localhost:8080/"
        },
        "id": "-JUVnOT_vXqA",
        "outputId": "e749b1e9-a3cb-4096-c43e-8c96a154520b"
      },
      "outputs": [
        {
          "name": "stdout",
          "output_type": "stream",
          "text": [
            "No tweets in train_df with multiple punctuation marks.\n",
            "\n",
            "No tweets in test_df with multiple punctuation marks.\n",
            "\n",
            "No tweets in val_df with multiple punctuation marks.\n"
          ]
        }
      ],
      "source": [
        "def check_multiple_punctuation(df):\n",
        "\n",
        "    # Regular expression to find two or more punctuation marks together\n",
        "    pattern = r'[!?.]{2,}'\n",
        "\n",
        "    # Find tweets with multiple punctuation marks\n",
        "    multiple_punctuation_tweets = df[df['tweet'].str.contains(pattern, regex=True)]\n",
        "\n",
        "    if multiple_punctuation_tweets.empty:\n",
        "        return None  # Return None if no such rows are found.\n",
        "    else:\n",
        "        return multiple_punctuation_tweets\n",
        "\n",
        "multiple_punctuation_train = check_multiple_punctuation(train_df)\n",
        "\n",
        "if multiple_punctuation_train is not None:\n",
        "    print(\"Tweets in train_df with multiple punctuation marks:\")\n",
        "    print(multiple_punctuation_train)\n",
        "else:\n",
        "    print(\"No tweets in train_df with multiple punctuation marks.\")\n",
        "\n",
        "multiple_punctuation_test = check_multiple_punctuation(test_df)\n",
        "if multiple_punctuation_test is not None:\n",
        "    print(\"\\nTweets in test_df with multiple punctuation marks:\")\n",
        "    print(multiple_punctuation_test)\n",
        "else:\n",
        "    print(\"\\nNo tweets in test_df with multiple punctuation marks.\")\n",
        "\n",
        "multiple_punctuation_val = check_multiple_punctuation(val_df)\n",
        "if multiple_punctuation_val is not None:\n",
        "    print(\"\\nTweets in val_df with multiple punctuation marks:\")\n",
        "    print(multiple_punctuation_val)\n",
        "else:\n",
        "    print(\"\\nNo tweets in val_df with multiple punctuation marks.\")\n"
      ]
    },
    {
      "cell_type": "markdown",
      "metadata": {
        "id": "u5_4L8uq0_wB"
      },
      "source": [
        "## Check Emoji Usage"
      ]
    },
    {
      "cell_type": "code",
      "execution_count": 19,
      "metadata": {
        "colab": {
          "base_uri": "https://localhost:8080/"
        },
        "id": "3nGj-Sv7tLUD",
        "outputId": "3b472ad9-c8d0-4abd-de13-6278b4748636"
      },
      "outputs": [
        {
          "name": "stdout",
          "output_type": "stream",
          "text": [
            "        id                                              tweet label  \\\n",
            "8        9  ?clearly, the obama administration did not lea...  fake   \n",
            "15      16  as of 18 august 2020 8am till now there have b...  real   \n",
            "48      49  schools are struggling to cope with a lack of ...  real   \n",
            "60      61  as of today there are a total of 1339 @icmrdel...  real   \n",
            "70      71  rt @surgeon_general: #dyk: #handwashing remain...  real   \n",
            "...    ...                                                ...   ...   \n",
            "6389  6390  📢#coronavirusupdates: 📍#covid19 india tracker ...  real   \n",
            "6391  6392  the cdc ?adjusted the us covid deaths from 153...  fake   \n",
            "6392  6393  ireland says that due to the coronavirus, anyo...  fake   \n",
            "6394  6395  says donald trump tweeted, ?corona vaccine fro...  fake   \n",
            "6416  6417  ?autopsies prove that covid-19 is?� a blood cl...  fake   \n",
            "\n",
            "      multiple_punctuation_count  contains_emoji  \n",
            "8                              2            True  \n",
            "15                             1            True  \n",
            "48                             0            True  \n",
            "60                             2            True  \n",
            "70                             1            True  \n",
            "...                          ...             ...  \n",
            "6389                          10            True  \n",
            "6391                           2            True  \n",
            "6392                           1            True  \n",
            "6394                           3            True  \n",
            "6416                           6            True  \n",
            "\n",
            "[614 rows x 5 columns]\n",
            "        id                                              tweet  \\\n",
            "12      13  🇰🇼 assistant undersecretary for public health ...   \n",
            "34      35  clinical senior lecturer at king's college lon...   \n",
            "40      41  the access to #covid19 tools (act) accelerator...   \n",
            "45      46  🤝 as business continue to adapt their services...   \n",
            "53      54  ?florida hospital reports a coronavirus ?infes...   \n",
            "...    ...                                                ...   \n",
            "2092  2093  in north carolina, ?you can be charged with a ...   \n",
            "2101  2102  mosquitoes can transfer covid-19 ?from person ...   \n",
            "2105  2106  ?michigan governor gretchen whitmer bans buyin...   \n",
            "2115  2116  ?china is to blame because the culture where p...   \n",
            "2135  2136  #coronavirusupdates: state-wise details of tot...   \n",
            "\n",
            "      multiple_punctuation_count  contains_emoji  \n",
            "12                             1            True  \n",
            "34                             2            True  \n",
            "40                             2            True  \n",
            "45                             3            True  \n",
            "53                             4            True  \n",
            "...                          ...             ...  \n",
            "2092                           2            True  \n",
            "2101                           2            True  \n",
            "2105                           2            True  \n",
            "2115                           2            True  \n",
            "2135                           5            True  \n",
            "\n",
            "[225 rows x 4 columns]\n",
            "        id                                              tweet label  \\\n",
            "4        5  6/10 sky's @edconwaysky explains the latest #c...  real   \n",
            "9       10  ?church services can?t resume until we?re all ...  fake   \n",
            "18      19  ?the democrats are pushing for an implanted mi...  fake   \n",
            "31      32  as of 5 august 2020 there are 1955 active #cov...  real   \n",
            "46      47  #coronavirusupdates: state-wise details of tot...  real   \n",
            "...    ...                                                ...   ...   \n",
            "2114  2115  numerous ongoing clinical trials are evaluatin...  real   \n",
            "2117  2118  update: #coronavirus #covid19 ➡️new hospital p...  real   \n",
            "2124  2125  seen a #covid19 meme that doesn't seem correct...  fake   \n",
            "2125  2126  right now our model shows that: 📉4 states have...  real   \n",
            "2134  2135  #indiafightscorona: 📍 increasing number of #co...  real   \n",
            "\n",
            "      multiple_punctuation_count  contains_emoji  \n",
            "4                              2            True  \n",
            "9                              4            True  \n",
            "18                             2            True  \n",
            "31                             1            True  \n",
            "46                             5            True  \n",
            "...                          ...             ...  \n",
            "2114                           2            True  \n",
            "2117                           5            True  \n",
            "2124                           1            True  \n",
            "2125                           2            True  \n",
            "2134                           1            True  \n",
            "\n",
            "[198 rows x 5 columns]\n"
          ]
        }
      ],
      "source": [
        "def contains_emoji(text):\n",
        "    emoji_pattern = re.compile(\"[\"\n",
        "                               u\"\\U0001F600-\\U0001F64F\"  # emoticons\n",
        "                               u\"\\U0001F300-\\U0001F5FF\"  # symbols & pictographs\n",
        "                               u\"\\U0001F680-\\U0001F6FF\"  # transport & map symbols\n",
        "                               u\"\\U0001F1E0-\\U0001F1FF\"  # flags (iOS)\n",
        "                               u\"\\U00002702-\\U000027B0\"\n",
        "                               u\"\\U000024C2-\\U0001F251\"\n",
        "                               \"]+\", flags=re.UNICODE)\n",
        "    return bool(emoji_pattern.search(text))\n",
        "\n",
        "train_df['contains_emoji'] = train_df['tweet'].apply(contains_emoji)\n",
        "test_df['contains_emoji'] = test_df['tweet'].apply(contains_emoji)\n",
        "val_df['contains_emoji'] = val_df['tweet'].apply(contains_emoji)\n",
        "\n",
        "print(train_df[train_df['contains_emoji'] == True])\n",
        "print(test_df[test_df['contains_emoji'] == True])\n",
        "print(val_df[val_df['contains_emoji'] == True])\n"
      ]
    },
    {
      "cell_type": "markdown",
      "metadata": {
        "id": "pcgJG-rr1aP6"
      },
      "source": [
        "## Classify URL Link"
      ]
    },
    {
      "cell_type": "code",
      "execution_count": 20,
      "metadata": {
        "id": "9YhzNVxXtm91"
      },
      "outputs": [],
      "source": [
        "def replace_urls(text):\n",
        "    url_pattern = re.compile(r'https?://\\S+|www\\.\\S+')\n",
        "    return url_pattern.sub(\"<URL>\", text)\n",
        "\n",
        "train_df['tweet'] = train_df['tweet'].apply(replace_urls)\n",
        "test_df['tweet'] = test_df['tweet'].apply(replace_urls)\n",
        "val_df['tweet'] = val_df['tweet'].apply(replace_urls)\n"
      ]
    },
    {
      "cell_type": "code",
      "execution_count": 21,
      "metadata": {
        "colab": {
          "base_uri": "https://localhost:8080/"
        },
        "id": "oMh4mffTuSah",
        "outputId": "f16826d5-a960-4210-fa8d-32708e3c7e05"
      },
      "outputs": [
        {
          "name": "stdout",
          "output_type": "stream",
          "text": [
            "Number of URLs in train_df: 4395\n",
            "Number of URLs in test_df: 1496\n",
            "Number of URLs in val_df: 1497\n"
          ]
        }
      ],
      "source": [
        "def count_url_occurrences(df):\n",
        "    return df['tweet'].str.count('<URL>').sum()\n",
        "\n",
        "train_url_count = count_url_occurrences(train_df)\n",
        "test_url_count = count_url_occurrences(test_df)\n",
        "val_url_count = count_url_occurrences(val_df)\n",
        "\n",
        "print(f\"Number of URLs in train_df: {train_url_count}\")\n",
        "print(f\"Number of URLs in test_df: {test_url_count}\")\n",
        "print(f\"Number of URLs in val_df: {val_url_count}\")\n"
      ]
    },
    {
      "cell_type": "markdown",
      "metadata": {
        "id": "4cHvEGwB1mAg"
      },
      "source": [
        "## Remove Special Character"
      ]
    },
    {
      "cell_type": "code",
      "execution_count": 22,
      "metadata": {
        "id": "gZc2YCH7uX17"
      },
      "outputs": [],
      "source": [
        "def remove_special_chars(text):\n",
        "    # Keep only letters, numbers, spaces, @ and #\n",
        "    text = re.sub(r'[^\\w\\s@#]', '', text)\n",
        "    return text\n",
        "\n",
        "train_df['tweet'] = train_df['tweet'].apply(remove_special_chars)\n",
        "test_df['tweet'] = test_df['tweet'].apply(remove_special_chars)\n",
        "val_df['tweet'] = val_df['tweet'].apply(remove_special_chars)\n"
      ]
    },
    {
      "cell_type": "markdown",
      "metadata": {
        "id": "BbtnDgCT1o9c"
      },
      "source": [
        "# Export"
      ]
    },
    {
      "cell_type": "code",
      "execution_count": 23,
      "metadata": {
        "id": "PiqdMTXQwiZW"
      },
      "outputs": [],
      "source": [
        "if not os.path.exists('clean'):\n",
        "    os.makedirs('clean')\n",
        "\n",
        "train_df.to_csv('clean/train_cleaned.csv', index=False)\n",
        "test_df.to_csv('clean/test_cleaned.csv', index=False)\n",
        "val_df.to_csv('clean/val_cleaned.csv', index=False)\n",
        "\n",
        "train_df.to_excel('clean/train_cleaned.xlsx', index=False)\n",
        "test_df.to_excel('clean/test_cleaned.xlsx', index=False)\n",
        "val_df.to_excel('clean/val_cleaned.xlsx', index=False)\n"
      ]
    },
    {
      "cell_type": "markdown",
      "metadata": {},
      "source": [
        "# Tokenizer"
      ]
    },
    {
      "cell_type": "code",
      "execution_count": null,
      "metadata": {},
      "outputs": [],
      "source": [
        "\n",
        "\n",
        "# Load pre-trained BERT tokenizer and model\n",
        "tokenizer = BertTokenizer.from_pretrained('bert-base-uncased')\n",
        "model = BertModel.from_pretrained('bert-base-uncased')\n",
        "\n",
        "def tokenize_tweet(tweet):\n",
        "    \"\"\"Tokenizes a tweet and extracts the [CLS] token embedding from BERT.\"\"\"\n",
        "    inputs = tokenizer(tweet, return_tensors=\"pt\", padding=True, truncation=True, max_length=128)\n",
        "    \n",
        "    with torch.no_grad():  # Disable gradient computation for efficiency\n",
        "        outputs = model(**inputs)\n",
        "    \n",
        "    cls_embedding = outputs.last_hidden_state[:, 0, :]  # Extract [CLS] token representation\n",
        "    return cls_embedding.numpy().flatten()  # Convert to 1D NumPy array\n",
        "\n",
        "# Apply the function to the dataset\n",
        "train_df['tweet_numerical'] = train_df['tweet'].apply(tokenize_tweet)\n",
        "test_df['tweet_numerical'] = test_df['tweet'].apply(tokenize_tweet)\n",
        "val_df['tweet_numerical'] = val_df['tweet'].apply(tokenize_tweet)\n"
      ]
    },
    {
      "cell_type": "code",
      "execution_count": 25,
      "metadata": {},
      "outputs": [
        {
          "data": {
            "text/html": [
              "<div>\n",
              "<style scoped>\n",
              "    .dataframe tbody tr th:only-of-type {\n",
              "        vertical-align: middle;\n",
              "    }\n",
              "\n",
              "    .dataframe tbody tr th {\n",
              "        vertical-align: top;\n",
              "    }\n",
              "\n",
              "    .dataframe thead th {\n",
              "        text-align: right;\n",
              "    }\n",
              "</style>\n",
              "<table border=\"1\" class=\"dataframe\">\n",
              "  <thead>\n",
              "    <tr style=\"text-align: right;\">\n",
              "      <th></th>\n",
              "      <th>id</th>\n",
              "      <th>tweet</th>\n",
              "      <th>label</th>\n",
              "      <th>multiple_punctuation_count</th>\n",
              "      <th>contains_emoji</th>\n",
              "      <th>tweet_numerical</th>\n",
              "    </tr>\n",
              "  </thead>\n",
              "  <tbody>\n",
              "    <tr>\n",
              "      <th>0</th>\n",
              "      <td>1</td>\n",
              "      <td>the cdc currently reports 99031 deaths in gene...</td>\n",
              "      <td>real</td>\n",
              "      <td>0</td>\n",
              "      <td>False</td>\n",
              "      <td>[-0.13996461, 0.06287794, 0.24462132, -0.25544...</td>\n",
              "    </tr>\n",
              "    <tr>\n",
              "      <th>1</th>\n",
              "      <td>2</td>\n",
              "      <td>states reported 1121 deaths a small rise from ...</td>\n",
              "      <td>real</td>\n",
              "      <td>1</td>\n",
              "      <td>False</td>\n",
              "      <td>[-0.46223238, -0.15984914, 0.34944507, -0.0417...</td>\n",
              "    </tr>\n",
              "    <tr>\n",
              "      <th>2</th>\n",
              "      <td>3</td>\n",
              "      <td>politically correct woman almost uses pandemic...</td>\n",
              "      <td>fake</td>\n",
              "      <td>1</td>\n",
              "      <td>False</td>\n",
              "      <td>[-0.3389366, 0.021693483, -0.33708763, -0.0038...</td>\n",
              "    </tr>\n",
              "    <tr>\n",
              "      <th>3</th>\n",
              "      <td>4</td>\n",
              "      <td>#indiafightscorona we have 1524 #covid testing...</td>\n",
              "      <td>real</td>\n",
              "      <td>1</td>\n",
              "      <td>False</td>\n",
              "      <td>[-0.14517201, -0.15194315, 0.20590551, -0.1750...</td>\n",
              "    </tr>\n",
              "    <tr>\n",
              "      <th>4</th>\n",
              "      <td>5</td>\n",
              "      <td>populous states can generate large case counts...</td>\n",
              "      <td>real</td>\n",
              "      <td>1</td>\n",
              "      <td>False</td>\n",
              "      <td>[-0.31011504, 0.073943324, 0.23608635, 0.16543...</td>\n",
              "    </tr>\n",
              "  </tbody>\n",
              "</table>\n",
              "</div>"
            ],
            "text/plain": [
              "   id                                              tweet label  \\\n",
              "0   1  the cdc currently reports 99031 deaths in gene...  real   \n",
              "1   2  states reported 1121 deaths a small rise from ...  real   \n",
              "2   3  politically correct woman almost uses pandemic...  fake   \n",
              "3   4  #indiafightscorona we have 1524 #covid testing...  real   \n",
              "4   5  populous states can generate large case counts...  real   \n",
              "\n",
              "   multiple_punctuation_count  contains_emoji  \\\n",
              "0                           0           False   \n",
              "1                           1           False   \n",
              "2                           1           False   \n",
              "3                           1           False   \n",
              "4                           1           False   \n",
              "\n",
              "                                     tweet_numerical  \n",
              "0  [-0.13996461, 0.06287794, 0.24462132, -0.25544...  \n",
              "1  [-0.46223238, -0.15984914, 0.34944507, -0.0417...  \n",
              "2  [-0.3389366, 0.021693483, -0.33708763, -0.0038...  \n",
              "3  [-0.14517201, -0.15194315, 0.20590551, -0.1750...  \n",
              "4  [-0.31011504, 0.073943324, 0.23608635, 0.16543...  "
            ]
          },
          "execution_count": 25,
          "metadata": {},
          "output_type": "execute_result"
        }
      ],
      "source": [
        "train_df.head(5)"
      ]
    },
    {
      "cell_type": "markdown",
      "metadata": {},
      "source": [
        "# Feature Extraction"
      ]
    },
    {
      "cell_type": "markdown",
      "metadata": {},
      "source": [
        "## Feature Matrix"
      ]
    },
    {
      "cell_type": "code",
      "execution_count": null,
      "metadata": {},
      "outputs": [],
      "source": [
        "\n",
        "\n",
        "# Convert list of arrays into a NumPy feature matrix\n",
        "X_train = np.vstack(train_df['tweet_numerical'].values)\n",
        "X_val = np.vstack(val_df['tweet_numerical'].values)\n",
        "X_test = np.vstack(test_df['tweet_numerical'].values)  # Test set has no labels\n",
        "\n",
        "# Encode labels ('fake' -> 1, 'real' -> 0)\n",
        "y_train = train_df['label'].map({'fake': 1, 'real': 0}).values\n",
        "y_val = val_df['label'].map({'fake': 1, 'real': 0}).values\n"
      ]
    }
  ],
  "metadata": {
    "colab": {
      "provenance": []
    },
    "kernelspec": {
      "display_name": "Data_Science_Project",
      "language": "python",
      "name": "python3"
    },
    "language_info": {
      "codemirror_mode": {
        "name": "ipython",
        "version": 3
      },
      "file_extension": ".py",
      "mimetype": "text/x-python",
      "name": "python",
      "nbconvert_exporter": "python",
      "pygments_lexer": "ipython3",
      "version": "3.13.1"
    }
  },
  "nbformat": 4,
  "nbformat_minor": 0
}
